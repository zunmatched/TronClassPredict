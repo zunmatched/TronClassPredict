{
 "cells": [
  {
   "cell_type": "code",
   "execution_count": 1,
   "metadata": {},
   "outputs": [],
   "source": [
    "import os, random\n",
    "import pandas as pd\n",
    "import numpy as np"
   ]
  },
  {
   "cell_type": "code",
   "execution_count": 2,
   "metadata": {},
   "outputs": [],
   "source": [
    "def score_clean(c1):\n",
    "    os.makedirs('data/course', exist_ok=True)\n",
    "    file_score = 'data/score/score_list_{}_all.xlsx'.format(str(c1['course_id']))\n",
    "    file_user  = 'data/course/{}_user_code.tsv'.format(c1['course_id'])\n",
    "    if not os.path.isfile(file_score):return 0\n",
    "    score = pd.read_excel(file_score, header=7)\n",
    "    user  = pd.read_csv(file_user, sep = '\\t')\n",
    "    if 'score' in user.columns.tolist():return 1\n",
    "    score = score[['帳號', '原始成績']]\n",
    "    score.rename({'帳號':'user_code', '原始成績':'score'}, axis=1, inplace=True)\n",
    "    score = score[score['score'].notna()]\n",
    "    user = user.merge(score, how='inner', on='user_code')\n",
    "    user.to_csv('data/course/{}_user_code.tsv'.format(c1['course_id']), sep = '\\t', index=False)\n",
    "    return 1\n",
    "\n",
    "if __name__ == '__main__':\n",
    "    course = pd.read_excel('data/other/course_list.xlsx', 'course')\n",
    "    semester = pd.read_excel('data/other/course_list.xlsx', 'semester')\n",
    "    course['for_train'] = course.apply(score_clean, axis = 1)\n",
    "    ## 儲存檔案\n",
    "    with pd.ExcelWriter(\"data/other/course_list.xlsx\") as writer:\n",
    "        course.to_excel(writer, sheet_name=\"course\", index=False)\n",
    "        semester.to_excel(writer, sheet_name=\"semester\", index=False)"
   ]
  },
  {
   "cell_type": "code",
   "execution_count": 3,
   "metadata": {},
   "outputs": [],
   "source": [
    "\n",
    "def getStd(column):\n",
    "    if column.dtypes == object:\n",
    "        return pd.Series({'col': column.name, 'std': 0, 'min': 0, })\n",
    "    column_1 = column[column > 0]\n",
    "    # print(column.name, len(column_1))\n",
    "    return pd.Series({\n",
    "        'col': column.name, \n",
    "        'std': column_1.to_numpy().std() if (len(column_1)>0) else 0, \n",
    "        'min': column.min(), \n",
    "    })\n",
    "\n",
    "def score_range(score, group_num=20):\n",
    "    ## label smoothing\n",
    "    r = int((100 / group_num) // 1)\n",
    "    s_dict = {}\n",
    "    sd_1, sd_2 = 0.7, 0.15\n",
    "    accum = 0\n",
    "    for s in range(group_num):\n",
    "        s_dict_val = 0.0\n",
    "        if (score >= (s*r))&(score < (s*r+r)):\n",
    "            s_dict_val = sd_1\n",
    "        elif (score >= (s*r-r))&(score < (s*r)):\n",
    "            s_dict_val = sd_2\n",
    "        elif (score >= (s*r+r))&(score < (s*r+r*2)):\n",
    "            s_dict_val = sd_2\n",
    "        s_dict[str(s*r)+'~'+str(s*r+r-1)] = s_dict_val\n",
    "        accum += s_dict_val\n",
    "    for k in s_dict.keys():\n",
    "        s_dict[k] /= accum\n",
    "    return pd.Series(s_dict)\n"
   ]
  },
  {
   "cell_type": "code",
   "execution_count": 4,
   "metadata": {},
   "outputs": [
    {
     "name": "stderr",
     "output_type": "stream",
     "text": [
      "C:\\Users\\Administrator\\Anaconda3\\envs\\tensorflow\\lib\\site-packages\\pandas\\core\\frame.py:4906: SettingWithCopyWarning: \n",
      "A value is trying to be set on a copy of a slice from a DataFrame\n",
      "\n",
      "See the caveats in the documentation: https://pandas.pydata.org/pandas-docs/stable/user_guide/indexing.html#returning-a-view-versus-a-copy\n",
      "  return super().drop(\n"
     ]
    }
   ],
   "source": [
    "def for_train():\n",
    "    course = pd.read_excel('data/other/course_list.xlsx', 'course')\n",
    "    semester = pd.read_excel('data/other/course_list.xlsx', 'semester')\n",
    "    course = course.merge(semester, on = 'semester')\n",
    "    course = course[course['for_train'] == 1]\n",
    "    os.makedirs('data/train', exist_ok=True)\n",
    "    os.makedirs('model_pytorch', exist_ok=True)\n",
    "    data_score_x = pd.DataFrame()\n",
    "    data_score_y = pd.DataFrame()\n",
    "    data_score_z = pd.DataFrame()\n",
    "    blacklist = ['B10524008'] ## 數值異常\n",
    "    for cn in course['course_name'].drop_duplicates():\n",
    "        cn_data_score_x = pd.DataFrame()\n",
    "        cn_course = course[course['course_name'] == cn]\n",
    "        for c in cn_course['course_id']:\n",
    "            c_course = course[course['course_id'] == c].iloc[0]\n",
    "            for w in range((c_course['end_at']-c_course['start_at']).days//7):\n",
    "                w+=1\n",
    "                cn_data_score_x = pd.concat([cn_data_score_x, pd.read_csv('data/clean/{}w{}_accum.csv'.format(str(c),str(w)))])\n",
    "        cn_data_score_x = cn_data_score_x[~cn_data_score_x['user_code'].isin(blacklist)]\n",
    "        cn_data_score_x.fillna(0, inplace=True)\n",
    "        cn_data_score_x.reset_index(drop=True, inplace=True)\n",
    "        cn_data_score_x['group'] = random.choices(['training', 'validation', 'testing'], [6, 2, 2], k=len(cn_data_score_x))\n",
    "        cn_data_score_x.drop(columns=['user_id', 'user_name'], inplace=True) ## 根據保密協定\n",
    "        ## score predict\n",
    "        cn_data_score_z = cn_data_score_x['score']\n",
    "        cn_data_score_y = cn_data_score_z.apply(lambda x: score_range(x, 20))\n",
    "        cn_data_score_z = pd.DataFrame({'score':cn_data_score_z.tolist()})\n",
    "        cn_data_score_y = pd.DataFrame(cn_data_score_y)\n",
    "        cn_data_score_z['group'] = cn_data_score_x['group']\n",
    "        cn_data_score_y['group'] = cn_data_score_x['group']\n",
    "        ## 儲存個課程的檔案\n",
    "        cn_data_score_x.to_csv('data/train/ScorePredict_x_{}.csv'.format(cn), index=False)\n",
    "        cn_data_score_y.to_csv('data/train/ScorePredict_y_{}.csv'.format(cn), index=False)\n",
    "        cn_data_score_z.to_csv('data/train/ScorePredict_z_{}.csv'.format(cn), index=False)\n",
    "        ## 合併檔案\n",
    "        data_score_x = pd.concat([data_score_x, cn_data_score_x])\n",
    "        data_score_y = pd.concat([data_score_y, cn_data_score_y])\n",
    "        data_score_z = pd.concat([data_score_z, cn_data_score_z])\n",
    "    ## 填補空白處\n",
    "    data_score_x.fillna(0, inplace=True)\n",
    "    data_std = data_score_x.apply(getStd, axis=0).T\n",
    "    ## 去掉不需要的特徵\n",
    "    data_std = data_std[(data_std['std'] > 0) & (data_std['min'] >= 0)]\n",
    "    data_std = data_std[~data_std['col'].isin(['score', 'course_code', 'group', 'user_id'])]\n",
    "    ## 儲存所有資料\n",
    "    data_std.to_csv('data/train/normalize.csv', index=False)\n",
    "    data_std.to_csv('model_pytorch/normalize.csv', index=False)\n",
    "    data_score_x.to_csv('data/train/ScorePredict_x.csv', index=False)\n",
    "    data_score_y.to_csv('data/train/ScorePredict_y.csv', index=False)\n",
    "    data_score_z.to_csv('data/train/ScorePredict_z.csv', index=False)\n",
    "\n",
    "if __name__ == '__main__':\n",
    "    for_train()"
   ]
  }
 ],
 "metadata": {
  "interpreter": {
   "hash": "0aa66b553f575c766ebf8dae9865f08740f7a672498c10dd9d6d0f09d940d9df"
  },
  "kernelspec": {
   "display_name": "Python 3.8.12 64-bit ('tensorflow': conda)",
   "language": "python",
   "name": "python3"
  },
  "language_info": {
   "codemirror_mode": {
    "name": "ipython",
    "version": 3
   },
   "file_extension": ".py",
   "mimetype": "text/x-python",
   "name": "python",
   "nbconvert_exporter": "python",
   "pygments_lexer": "ipython3",
   "version": "3.8.12"
  },
  "orig_nbformat": 4
 },
 "nbformat": 4,
 "nbformat_minor": 2
}
